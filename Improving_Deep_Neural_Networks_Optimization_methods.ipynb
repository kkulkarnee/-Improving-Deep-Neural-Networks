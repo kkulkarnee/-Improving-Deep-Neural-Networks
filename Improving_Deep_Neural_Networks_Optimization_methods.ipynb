{
  "nbformat": 4,
  "nbformat_minor": 0,
  "metadata": {
    "kernelspec": {
      "display_name": "Python 3",
      "language": "python",
      "name": "python3"
    },
    "language_info": {
      "codemirror_mode": {
        "name": "ipython",
        "version": 3
      },
      "file_extension": ".py",
      "mimetype": "text/x-python",
      "name": "python",
      "nbconvert_exporter": "python",
      "pygments_lexer": "ipython3",
      "version": "3.6.0"
    },
    "colab": {
      "provenance": [],
      "collapsed_sections": []
    }
  },
  "cells": [
    {
      "cell_type": "markdown",
      "metadata": {
        "id": "xBJD70JxpOKT"
      },
      "source": [
        "# Optimization Methods\n",
        "\n",
        "Until now, you've always used Gradient Descent to update the parameters and minimize the cost. In this notebook, you will learn more advanced optimization methods that can speed up learning and perhaps even get you to a better final value for the cost function. Having a good optimization algorithm can be the difference between waiting days vs. just a few hours to get a good result. \n",
        "\n",
        "Gradient descent goes \"downhill\" on a cost function $J$. Think of it as trying to do this: \n",
        "<img src=\"https://github.com/hrushikeshsahu19/Improving-Deep-Neural-Networks-/blob/main/images/cost.jpg?raw=1\" style=\"width:650px;height:300px;\">\n",
        "<caption><center> <u> **Figure 1** </u>: **Minimizing the cost is like finding the lowest point in a hilly landscape**<br> At each step of the training, you update your parameters following a certain direction to try to get to the lowest possible point. </center></caption>\n",
        "\n",
        "**Notations**: As usual, $\\frac{\\partial J}{\\partial a } = $ `da` for any variable `a`.\n",
        "\n",
        "To get started, run the following code to import the libraries you will need."
      ]
    },
    {
      "cell_type": "code",
      "metadata": {
        "id": "ALLSXZM6qL6e"
      },
      "source": [],
      "execution_count": null,
      "outputs": []
    },
    {
      "cell_type": "code",
      "metadata": {
        "colab": {
          "base_uri": "https://localhost:8080/"
        },
        "id": "IGrRyy8vqNRB",
        "outputId": "4339f055-76ca-43d8-9385-95be588f9b82"
      },
      "source": [
        "from google.colab import drive\n",
        "drive.mount('/content/drive')"
      ],
      "execution_count": null,
      "outputs": [
        {
          "output_type": "stream",
          "text": [
            "Mounted at /content/drive\n"
          ],
          "name": "stdout"
        }
      ]
    },
    {
      "cell_type": "code",
      "metadata": {
        "id": "cjoBvUMIqlpn"
      },
      "source": [
        "import numpy as np\n",
        "import matplotlib.pyplot as plt\n",
        "import h5py\n",
        "import scipy.io\n",
        "import sklearn\n",
        "import sklearn.datasets\n",
        "\n",
        "def sigmoid(x):\n",
        "    \"\"\"\n",
        "    Compute the sigmoid of x\n",
        "\n",
        "    Arguments:\n",
        "    x -- A scalar or numpy array of any size.\n",
        "\n",
        "    Return:\n",
        "    s -- sigmoid(x)\n",
        "    \"\"\"\n",
        "    s = 1/(1+np.exp(-x))\n",
        "    return s\n",
        "\n",
        "def relu(x):\n",
        "    \"\"\"\n",
        "    Compute the relu of x\n",
        "\n",
        "    Arguments:\n",
        "    x -- A scalar or numpy array of any size.\n",
        "\n",
        "    Return:\n",
        "    s -- relu(x)\n",
        "    \"\"\"\n",
        "    s = np.maximum(0,x)\n",
        "    \n",
        "    return s\n",
        "\n",
        "def load_params_and_grads(seed=1):\n",
        "    np.random.seed(seed)\n",
        "    W1 = np.random.randn(2,3)\n",
        "    b1 = np.random.randn(2,1)\n",
        "    W2 = np.random.randn(3,3)\n",
        "    b2 = np.random.randn(3,1)\n",
        "\n",
        "    dW1 = np.random.randn(2,3)\n",
        "    db1 = np.random.randn(2,1)\n",
        "    dW2 = np.random.randn(3,3)\n",
        "    db2 = np.random.randn(3,1)\n",
        "    \n",
        "    return W1, b1, W2, b2, dW1, db1, dW2, db2\n",
        "\n",
        "\n",
        "def initialize_parameters(layer_dims):\n",
        "    \"\"\"\n",
        "    Arguments:\n",
        "    layer_dims -- python array (list) containing the dimensions of each layer in our network\n",
        "    \n",
        "    Returns:\n",
        "    parameters -- python dictionary containing your parameters \"W1\", \"b1\", ..., \"WL\", \"bL\":\n",
        "                    W1 -- weight matrix of shape (layer_dims[l], layer_dims[l-1])\n",
        "                    b1 -- bias vector of shape (layer_dims[l], 1)\n",
        "                    Wl -- weight matrix of shape (layer_dims[l-1], layer_dims[l])\n",
        "                    bl -- bias vector of shape (1, layer_dims[l])\n",
        "                    \n",
        "    Tips:\n",
        "    - For example: the layer_dims for the \"Planar Data classification model\" would have been [2,2,1]. \n",
        "    This means W1's shape was (2,2), b1 was (1,2), W2 was (2,1) and b2 was (1,1). Now you have to generalize it!\n",
        "    - In the for loop, use parameters['W' + str(l)] to access Wl, where l is the iterative integer.\n",
        "    \"\"\"\n",
        "    \n",
        "    np.random.seed(3)\n",
        "    parameters = {}\n",
        "    L = len(layer_dims) # number of layers in the network\n",
        "\n",
        "    for l in range(1, L):\n",
        "        parameters['W' + str(l)] = np.random.randn(layer_dims[l], layer_dims[l-1])*  np.sqrt(2 / layer_dims[l-1])\n",
        "        parameters['b' + str(l)] = np.zeros((layer_dims[l], 1))\n",
        "        \n",
        "        assert parameters['W' + str(l)].shape[0] == layer_dims[l], layer_dims[l-1]\n",
        "        assert parameters['W' + str(l)].shape[0] == layer_dims[l], 1\n",
        "        \n",
        "    return parameters\n",
        "\n",
        "\n",
        "def compute_cost(a3, Y):\n",
        "    \n",
        "    \"\"\"\n",
        "    Implement the cost function\n",
        "    \n",
        "    Arguments:\n",
        "    a3 -- post-activation, output of forward propagation\n",
        "    Y -- \"true\" labels vector, same shape as a3\n",
        "    \n",
        "    Returns:\n",
        "    cost - value of the cost function without dividing by number of training examples\n",
        "    \n",
        "    Note: \n",
        "    This is used with mini-batches, \n",
        "    so we'll first accumulate costs over an entire epoch \n",
        "    and then divide by the m training examples\n",
        "    \"\"\"\n",
        "    \n",
        "    logprobs = np.multiply(-np.log(a3),Y) + np.multiply(-np.log(1 - a3), 1 - Y)\n",
        "    cost_total =  np.sum(logprobs)\n",
        "    \n",
        "    return cost_total\n",
        "\n",
        "def forward_propagation(X, parameters):\n",
        "    \"\"\"\n",
        "    Implements the forward propagation (and computes the loss) presented in Figure 2.\n",
        "    \n",
        "    Arguments:\n",
        "    X -- input dataset, of shape (input size, number of examples)\n",
        "    parameters -- python dictionary containing your parameters \"W1\", \"b1\", \"W2\", \"b2\", \"W3\", \"b3\":\n",
        "                    W1 -- weight matrix of shape ()\n",
        "                    b1 -- bias vector of shape ()\n",
        "                    W2 -- weight matrix of shape ()\n",
        "                    b2 -- bias vector of shape ()\n",
        "                    W3 -- weight matrix of shape ()\n",
        "                    b3 -- bias vector of shape ()\n",
        "    \n",
        "    Returns:\n",
        "    loss -- the loss function (vanilla logistic loss)\n",
        "    \"\"\"\n",
        "    \n",
        "    # retrieve parameters\n",
        "    W1 = parameters[\"W1\"]\n",
        "    b1 = parameters[\"b1\"]\n",
        "    W2 = parameters[\"W2\"]\n",
        "    b2 = parameters[\"b2\"]\n",
        "    W3 = parameters[\"W3\"]\n",
        "    b3 = parameters[\"b3\"]\n",
        "    \n",
        "    # LINEAR -> RELU -> LINEAR -> RELU -> LINEAR -> SIGMOID\n",
        "    z1 = np.dot(W1, X) + b1\n",
        "    a1 = relu(z1)\n",
        "    z2 = np.dot(W2, a1) + b2\n",
        "    a2 = relu(z2)\n",
        "    z3 = np.dot(W3, a2) + b3\n",
        "    a3 = sigmoid(z3)\n",
        "    \n",
        "    cache = (z1, a1, W1, b1, z2, a2, W2, b2, z3, a3, W3, b3)\n",
        "    \n",
        "    return a3, cache\n",
        "\n",
        "def backward_propagation(X, Y, cache):\n",
        "    \"\"\"\n",
        "    Implement the backward propagation presented in figure 2.\n",
        "    \n",
        "    Arguments:\n",
        "    X -- input dataset, of shape (input size, number of examples)\n",
        "    Y -- true \"label\" vector (containing 0 if cat, 1 if non-cat)\n",
        "    cache -- cache output from forward_propagation()\n",
        "    \n",
        "    Returns:\n",
        "    gradients -- A dictionary with the gradients with respect to each parameter, activation and pre-activation variables\n",
        "    \"\"\"\n",
        "    m = X.shape[1]\n",
        "    (z1, a1, W1, b1, z2, a2, W2, b2, z3, a3, W3, b3) = cache\n",
        "    \n",
        "    dz3 = 1./m * (a3 - Y)\n",
        "    dW3 = np.dot(dz3, a2.T)\n",
        "    db3 = np.sum(dz3, axis=1, keepdims = True)\n",
        "    \n",
        "    da2 = np.dot(W3.T, dz3)\n",
        "    dz2 = np.multiply(da2, np.int64(a2 > 0))\n",
        "    dW2 = np.dot(dz2, a1.T)\n",
        "    db2 = np.sum(dz2, axis=1, keepdims = True)\n",
        "    \n",
        "    da1 = np.dot(W2.T, dz2)\n",
        "    dz1 = np.multiply(da1, np.int64(a1 > 0))\n",
        "    dW1 = np.dot(dz1, X.T)\n",
        "    db1 = np.sum(dz1, axis=1, keepdims = True)\n",
        "    \n",
        "    gradients = {\"dz3\": dz3, \"dW3\": dW3, \"db3\": db3,\n",
        "                 \"da2\": da2, \"dz2\": dz2, \"dW2\": dW2, \"db2\": db2,\n",
        "                 \"da1\": da1, \"dz1\": dz1, \"dW1\": dW1, \"db1\": db1}\n",
        "    \n",
        "    return gradients\n",
        "\n",
        "def predict(X, y, parameters):\n",
        "    \"\"\"\n",
        "    This function is used to predict the results of a  n-layer neural network.\n",
        "    \n",
        "    Arguments:\n",
        "    X -- data set of examples you would like to label\n",
        "    parameters -- parameters of the trained model\n",
        "    \n",
        "    Returns:\n",
        "    p -- predictions for the given dataset X\n",
        "    \"\"\"\n",
        "    \n",
        "    m = X.shape[1]\n",
        "    p = np.zeros((1,m), dtype = np.int)\n",
        "    \n",
        "    # Forward propagation\n",
        "    a3, caches = forward_propagation(X, parameters)\n",
        "    \n",
        "    # convert probas to 0/1 predictions\n",
        "    for i in range(0, a3.shape[1]):\n",
        "        if a3[0,i] > 0.5:\n",
        "            p[0,i] = 1\n",
        "        else:\n",
        "            p[0,i] = 0\n",
        "\n",
        "    # print results\n",
        "\n",
        "    #print (\"predictions: \" + str(p[0,:]))\n",
        "    #print (\"true labels: \" + str(y[0,:]))\n",
        "    print(\"Accuracy: \"  + str(np.mean((p[0,:] == y[0,:]))))\n",
        "    \n",
        "    return p\n",
        "\n",
        "def load_2D_dataset():\n",
        "    data = scipy.io.loadmat('/content/drive/MyDrive/AlmaBetter/Cohort Aravali/Module 6/Week 1/Day 6/data.mat')\n",
        "    train_X = data['X'].T\n",
        "    train_Y = data['y'].T\n",
        "    test_X = data['Xval'].T\n",
        "    test_Y = data['yval'].T\n",
        "\n",
        "    plt.scatter(train_X[0, :], train_X[1, :], c=train_Y, s=40, cmap=plt.cm.Spectral);\n",
        "    \n",
        "    return train_X, train_Y, test_X, test_Y\n",
        "\n",
        "def plot_decision_boundary(model, X, y):\n",
        "    # Set min and max values and give it some padding\n",
        "    x_min, x_max = X[0, :].min() - 1, X[0, :].max() + 1\n",
        "    y_min, y_max = X[1, :].min() - 1, X[1, :].max() + 1\n",
        "    h = 0.01\n",
        "    # Generate a grid of points with distance h between them\n",
        "    xx, yy = np.meshgrid(np.arange(x_min, x_max, h), np.arange(y_min, y_max, h))\n",
        "    # Predict the function value for the whole grid\n",
        "    Z = model(np.c_[xx.ravel(), yy.ravel()])\n",
        "    Z = Z.reshape(xx.shape)\n",
        "    # Plot the contour and training examples\n",
        "    plt.contourf(xx, yy, Z, cmap=plt.cm.Spectral)\n",
        "    plt.ylabel('x2')\n",
        "    plt.xlabel('x1')\n",
        "    plt.scatter(X[0, :], X[1, :], c=y, cmap=plt.cm.Spectral)\n",
        "    plt.show()\n",
        "    \n",
        "def predict_dec(parameters, X):\n",
        "    \"\"\"\n",
        "    Used for plotting decision boundary.\n",
        "    \n",
        "    Arguments:\n",
        "    parameters -- python dictionary containing your parameters \n",
        "    X -- input data of size (m, K)\n",
        "    \n",
        "    Returns\n",
        "    predictions -- vector of predictions of our model (red: 0 / blue: 1)\n",
        "    \"\"\"\n",
        "    \n",
        "    # Predict using forward propagation and a classification threshold of 0.5\n",
        "    a3, cache = forward_propagation(X, parameters)\n",
        "    predictions = (a3 > 0.5)\n",
        "    return predictions\n",
        "\n",
        "def load_dataset():\n",
        "    np.random.seed(3)\n",
        "    train_X, train_Y = sklearn.datasets.make_moons(n_samples=300, noise=.2) #300 #0.2 \n",
        "    # Visualize the data\n",
        "    plt.scatter(train_X[:, 0], train_X[:, 1], c=train_Y, s=40, cmap=plt.cm.Spectral);\n",
        "    train_X = train_X.T\n",
        "    train_Y = train_Y.reshape((1, train_Y.shape[0]))\n",
        "    \n",
        "    return train_X, train_Y"
      ],
      "execution_count": null,
      "outputs": []
    },
    {
      "cell_type": "code",
      "metadata": {
        "id": "dVk0gV4Vpv4g"
      },
      "source": [
        "import numpy as np\n",
        "\n",
        "def update_parameters_with_gd_test_case():\n",
        "    np.random.seed(1)\n",
        "    learning_rate = 0.01\n",
        "    W1 = np.random.randn(2,3)\n",
        "    b1 = np.random.randn(2,1)\n",
        "    W2 = np.random.randn(3,3)\n",
        "    b2 = np.random.randn(3,1)\n",
        "\n",
        "    dW1 = np.random.randn(2,3)\n",
        "    db1 = np.random.randn(2,1)\n",
        "    dW2 = np.random.randn(3,3)\n",
        "    db2 = np.random.randn(3,1)\n",
        "    \n",
        "    parameters = {\"W1\": W1, \"b1\": b1, \"W2\": W2, \"b2\": b2}\n",
        "    grads = {\"dW1\": dW1, \"db1\": db1, \"dW2\": dW2, \"db2\": db2}\n",
        "    \n",
        "    return parameters, grads, learning_rate\n",
        "\n",
        "\"\"\"\n",
        "def update_parameters_with_sgd_checker(function, inputs, outputs):\n",
        "    if function(inputs) == outputs:\n",
        "        print(\"Correct\")\n",
        "    else:\n",
        "        print(\"Incorrect\")\n",
        "\"\"\"\n",
        "\n",
        "def random_mini_batches_test_case():\n",
        "    np.random.seed(1)\n",
        "    mini_batch_size = 64\n",
        "    X = np.random.randn(12288, 148)\n",
        "    Y = np.random.randn(1, 148) < 0.5\n",
        "    return X, Y, mini_batch_size\n",
        "\n",
        "def initialize_velocity_test_case():\n",
        "    np.random.seed(1)\n",
        "    W1 = np.random.randn(2,3)\n",
        "    b1 = np.random.randn(2,1)\n",
        "    W2 = np.random.randn(3,3)\n",
        "    b2 = np.random.randn(3,1)\n",
        "    parameters = {\"W1\": W1, \"b1\": b1, \"W2\": W2, \"b2\": b2}\n",
        "    return parameters\n",
        "\n",
        "def update_parameters_with_momentum_test_case():\n",
        "    np.random.seed(1)\n",
        "    W1 = np.random.randn(2,3)\n",
        "    b1 = np.random.randn(2,1)\n",
        "    W2 = np.random.randn(3,3)\n",
        "    b2 = np.random.randn(3,1)\n",
        "\n",
        "    dW1 = np.random.randn(2,3)\n",
        "    db1 = np.random.randn(2,1)\n",
        "    dW2 = np.random.randn(3,3)\n",
        "    db2 = np.random.randn(3,1)\n",
        "    parameters = {\"W1\": W1, \"b1\": b1, \"W2\": W2, \"b2\": b2}\n",
        "    grads = {\"dW1\": dW1, \"db1\": db1, \"dW2\": dW2, \"db2\": db2}\n",
        "    v = {'dW1': np.array([[ 0.,  0.,  0.],\n",
        "        [ 0.,  0.,  0.]]), 'dW2': np.array([[ 0.,  0.,  0.],\n",
        "        [ 0.,  0.,  0.],\n",
        "        [ 0.,  0.,  0.]]), 'db1': np.array([[ 0.],\n",
        "        [ 0.]]), 'db2': np.array([[ 0.],\n",
        "        [ 0.],\n",
        "        [ 0.]])}\n",
        "    return parameters, grads, v\n",
        "    \n",
        "def initialize_adam_test_case():\n",
        "    np.random.seed(1)\n",
        "    W1 = np.random.randn(2,3)\n",
        "    b1 = np.random.randn(2,1)\n",
        "    W2 = np.random.randn(3,3)\n",
        "    b2 = np.random.randn(3,1)\n",
        "    parameters = {\"W1\": W1, \"b1\": b1, \"W2\": W2, \"b2\": b2}\n",
        "    return parameters\n",
        "\n",
        "def update_parameters_with_adam_test_case():\n",
        "    np.random.seed(1)\n",
        "    v, s = ({'dW1': np.array([[ 0.,  0.,  0.],\n",
        "         [ 0.,  0.,  0.]]), 'dW2': np.array([[ 0.,  0.,  0.],\n",
        "         [ 0.,  0.,  0.],\n",
        "         [ 0.,  0.,  0.]]), 'db1': np.array([[ 0.],\n",
        "         [ 0.]]), 'db2': np.array([[ 0.],\n",
        "         [ 0.],\n",
        "         [ 0.]])}, {'dW1': np.array([[ 0.,  0.,  0.],\n",
        "         [ 0.,  0.,  0.]]), 'dW2': np.array([[ 0.,  0.,  0.],\n",
        "         [ 0.,  0.,  0.],\n",
        "         [ 0.,  0.,  0.]]), 'db1': np.array([[ 0.],\n",
        "         [ 0.]]), 'db2': np.array([[ 0.],\n",
        "         [ 0.],\n",
        "         [ 0.]])})\n",
        "    W1 = np.random.randn(2,3)\n",
        "    b1 = np.random.randn(2,1)\n",
        "    W2 = np.random.randn(3,3)\n",
        "    b2 = np.random.randn(3,1)\n",
        "\n",
        "    dW1 = np.random.randn(2,3)\n",
        "    db1 = np.random.randn(2,1)\n",
        "    dW2 = np.random.randn(3,3)\n",
        "    db2 = np.random.randn(3,1)\n",
        "    \n",
        "    parameters = {\"W1\": W1, \"b1\": b1, \"W2\": W2, \"b2\": b2}\n",
        "    grads = {\"dW1\": dW1, \"db1\": db1, \"dW2\": dW2, \"db2\": db2}\n",
        "    \n",
        "    return parameters, grads, v, s\n",
        "    "
      ],
      "execution_count": null,
      "outputs": []
    },
    {
      "cell_type": "code",
      "metadata": {
        "id": "pmnNV_-9pOKq"
      },
      "source": [
        "import numpy as np\n",
        "import matplotlib.pyplot as plt\n",
        "import scipy.io\n",
        "import math\n",
        "import sklearn\n",
        "import sklearn.datasets\n",
        "\n",
        "#from opt_utils import load_params_and_grads, initialize_parameters, forward_propagation, backward_propagation\n",
        "#from opt_utils import compute_cost, predict, predict_dec, plot_decision_boundary, load_dataset\n",
        "#from testCases import *\n",
        "\n",
        "%matplotlib inline\n",
        "plt.rcParams['figure.figsize'] = (7.0, 4.0) # set default size of plots\n",
        "plt.rcParams['image.interpolation'] = 'nearest'\n",
        "plt.rcParams['image.cmap'] = 'gray'"
      ],
      "execution_count": null,
      "outputs": []
    },
    {
      "cell_type": "markdown",
      "metadata": {
        "id": "legUTvOmpOKx"
      },
      "source": [
        "## 1 - Gradient Descent\n",
        "\n",
        "A simple optimization method in machine learning is gradient descent (GD). When you take gradient steps with respect to all $m$ examples on each step, it is also called Batch Gradient Descent. \n",
        "\n",
        "**Warm-up exercise**: Implement the gradient descent update rule. The  gradient descent rule is, for $l = 1, ..., L$: \n",
        "$$ W^{[l]} = W^{[l]} - \\alpha \\text{ } dW^{[l]} \\tag{1}$$\n",
        "$$ b^{[l]} = b^{[l]} - \\alpha \\text{ } db^{[l]} \\tag{2}$$\n",
        "\n",
        "where L is the number of layers and $\\alpha$ is the learning rate. All parameters should be stored in the `parameters` dictionary. Note that the iterator `l` starts at 0 in the `for` loop while the first parameters are $W^{[1]}$ and $b^{[1]}$. You need to shift `l` to `l+1` when coding."
      ]
    },
    {
      "cell_type": "code",
      "metadata": {
        "collapsed": true,
        "id": "e4hvdBCPpOKz"
      },
      "source": [
        "# GRADED FUNCTION: update_parameters_with_gd\n",
        "\n",
        "def update_parameters_with_gd(parameters, grads, learning_rate):\n",
        "    \"\"\"\n",
        "    Update parameters using one step of gradient descent\n",
        "    \n",
        "    Arguments:\n",
        "    parameters -- python dictionary containing your parameters to be updated:\n",
        "                    parameters['W' + str(l)] = Wl\n",
        "                    parameters['b' + str(l)] = bl\n",
        "    grads -- python dictionary containing your gradients to update each parameters:\n",
        "                    grads['dW' + str(l)] = dWl\n",
        "                    grads['db' + str(l)] = dbl\n",
        "    learning_rate -- the learning rate, scalar.\n",
        "    \n",
        "    Returns:\n",
        "    parameters -- python dictionary containing your updated parameters \n",
        "    \"\"\"\n",
        "\n",
        "    L = len(parameters) // 2 # number of layers in the neural networks\n",
        "\n",
        "    # Update rule for each parameter\n",
        "    for l in range(L):\n",
        "        ### START CODE HERE ### (approx. 2 lines)\n",
        "        parameters[\"W\" + str(l+1)] = parameters[\"W\" + str(l+1)] - learning_rate * grads['dW' + str(l+1)]\n",
        "        parameters[\"b\" + str(l+1)] = parameters[\"b\" + str(l+1)] - learning_rate * grads['db' + str(l+1)]\n",
        "        ### END CODE HERE ###\n",
        "        \n",
        "    return parameters"
      ],
      "execution_count": null,
      "outputs": []
    },
    {
      "cell_type": "code",
      "metadata": {
        "scrolled": true,
        "colab": {
          "base_uri": "https://localhost:8080/"
        },
        "id": "XTSCTV2dpOK1",
        "outputId": "d95b0779-b684-4a78-e2e2-5864f9faab6b"
      },
      "source": [
        "parameters, grads, learning_rate = update_parameters_with_gd_test_case()\n",
        "\n",
        "parameters = update_parameters_with_gd(parameters, grads, learning_rate)\n",
        "print(\"W1 = \" + str(parameters[\"W1\"]))\n",
        "print(\"b1 = \" + str(parameters[\"b1\"]))\n",
        "print(\"W2 = \" + str(parameters[\"W2\"]))\n",
        "print(\"b2 = \" + str(parameters[\"b2\"]))"
      ],
      "execution_count": null,
      "outputs": [
        {
          "output_type": "stream",
          "text": [
            "W1 = [[ 1.63535156 -0.62320365 -0.53718766]\n",
            " [-1.07799357  0.85639907 -2.29470142]]\n",
            "b1 = [[ 1.74604067]\n",
            " [-0.75184921]]\n",
            "W2 = [[ 0.32171798 -0.25467393  1.46902454]\n",
            " [-2.05617317 -0.31554548 -0.3756023 ]\n",
            " [ 1.1404819  -1.09976462 -0.1612551 ]]\n",
            "b2 = [[-0.88020257]\n",
            " [ 0.02561572]\n",
            " [ 0.57539477]]\n"
          ],
          "name": "stdout"
        }
      ]
    },
    {
      "cell_type": "markdown",
      "metadata": {
        "id": "kUZ_Nlr0pOK3"
      },
      "source": [
        "**Expected Output**:\n",
        "\n",
        "<table> \n",
        "    <tr>\n",
        "    <td > **W1** </td> \n",
        "           <td > [[ 1.63535156 -0.62320365 -0.53718766]\n",
        " [-1.07799357  0.85639907 -2.29470142]] </td> \n",
        "    </tr> \n",
        "    \n",
        "    <tr>\n",
        "    <td > **b1** </td> \n",
        "           <td > [[ 1.74604067]\n",
        " [-0.75184921]] </td> \n",
        "    </tr> \n",
        "    \n",
        "    <tr>\n",
        "    <td > **W2** </td> \n",
        "           <td > [[ 0.32171798 -0.25467393  1.46902454]\n",
        " [-2.05617317 -0.31554548 -0.3756023 ]\n",
        " [ 1.1404819  -1.09976462 -0.1612551 ]] </td> \n",
        "    </tr> \n",
        "    \n",
        "    <tr>\n",
        "    <td > **b2** </td> \n",
        "           <td > [[-0.88020257]\n",
        " [ 0.02561572]\n",
        " [ 0.57539477]] </td> \n",
        "    </tr> \n",
        "</table>\n"
      ]
    },
    {
      "cell_type": "markdown",
      "metadata": {
        "id": "IfwUQLLKpOK4"
      },
      "source": [
        "A variant of this is Stochastic Gradient Descent (SGD), which is equivalent to mini-batch gradient descent where each mini-batch has just 1 example. The update rule that you have just implemented does not change. What changes is that you would be computing gradients on just one training example at a time, rather than on the whole training set. The code examples below illustrate the difference between stochastic gradient descent and (batch) gradient descent. \n",
        "\n",
        "- **(Batch) Gradient Descent**:\n",
        "\n",
        "``` python\n",
        "X = data_input\n",
        "Y = labels\n",
        "parameters = initialize_parameters(layers_dims)\n",
        "for i in range(0, num_iterations):\n",
        "    # Forward propagation\n",
        "    a, caches = forward_propagation(X, parameters)\n",
        "    # Compute cost.\n",
        "    cost = compute_cost(a, Y)\n",
        "    # Backward propagation.\n",
        "    grads = backward_propagation(a, caches, parameters)\n",
        "    # Update parameters.\n",
        "    parameters = update_parameters(parameters, grads)\n",
        "        \n",
        "```\n",
        "\n",
        "- **Stochastic Gradient Descent**:\n",
        "\n",
        "```python\n",
        "X = data_input\n",
        "Y = labels\n",
        "parameters = initialize_parameters(layers_dims)\n",
        "for i in range(0, num_iterations):\n",
        "    for j in range(0, m):\n",
        "        # Forward propagation\n",
        "        a, caches = forward_propagation(X[:,j], parameters)\n",
        "        # Compute cost\n",
        "        cost = compute_cost(a, Y[:,j])\n",
        "        # Backward propagation\n",
        "        grads = backward_propagation(a, caches, parameters)\n",
        "        # Update parameters.\n",
        "        parameters = update_parameters(parameters, grads)\n",
        "```\n"
      ]
    },
    {
      "cell_type": "markdown",
      "metadata": {
        "id": "Vk6pz3XUpOK6"
      },
      "source": [
        "In Stochastic Gradient Descent, you use only 1 training example before updating the gradients. When the training set is large, SGD can be faster. But the parameters will \"oscillate\" toward the minimum rather than converge smoothly. Here is an illustration of this: \n",
        "\n",
        "<img src=\"https://github.com/hrushikeshsahu19/Improving-Deep-Neural-Networks-/blob/main/images/kiank_sgd.png?raw=1\" style=\"width:750px;height:250px;\">\n",
        "<caption><center> <u> <font color='purple'> **Figure 1** </u><font color='purple'>  : **SGD vs GD**<br> \"+\" denotes a minimum of the cost. SGD leads to many oscillations to reach convergence. But each step is a lot faster to compute for SGD than for GD, as it uses only one training example (vs. the whole batch for GD). </center></caption>\n",
        "\n",
        "**Note** also that implementing SGD requires 3 for-loops in total:\n",
        "1. Over the number of iterations\n",
        "2. Over the $m$ training examples\n",
        "3. Over the layers (to update all parameters, from $(W^{[1]},b^{[1]})$ to $(W^{[L]},b^{[L]})$)\n",
        "\n",
        "In practice, you'll often get faster results if you do not use neither the whole training set, nor only one training example, to perform each update. Mini-batch gradient descent uses an intermediate number of examples for each step. With mini-batch gradient descent, you loop over the mini-batches instead of looping over individual training examples.\n",
        "\n",
        "<img src=\"https://github.com/hrushikeshsahu19/Improving-Deep-Neural-Networks-/blob/main/images/kiank_minibatch.png?raw=1\" style=\"width:750px;height:250px;\">\n",
        "<caption><center> <u> <font color='purple'> **Figure 2** </u>: <font color='purple'>  **SGD vs Mini-Batch GD**<br> \"+\" denotes a minimum of the cost. Using mini-batches in your optimization algorithm often leads to faster optimization. </center></caption>\n",
        "\n",
        "<font color='blue'>\n",
        "**What you should remember**:\n",
        "- The difference between gradient descent, mini-batch gradient descent and stochastic gradient descent is the number of examples you use to perform one update step.\n",
        "- You have to tune a learning rate hyperparameter $\\alpha$.\n",
        "- With a well-turned mini-batch size, usually it outperforms either gradient descent or stochastic gradient descent (particularly when the training set is large)."
      ]
    },
    {
      "cell_type": "markdown",
      "metadata": {
        "id": "Py87tyZbpOK9"
      },
      "source": [
        "## 2 - Mini-Batch Gradient descent\n",
        "\n",
        "Let's learn how to build mini-batches from the training set (X, Y).\n",
        "\n",
        "There are two steps:\n",
        "- **Shuffle**: Create a shuffled version of the training set (X, Y) as shown below. Each column of X and Y represents a training example. Note that the random shuffling is done synchronously between X and Y. Such that after the shuffling the $i^{th}$ column of X is the example corresponding to the $i^{th}$ label in Y. The shuffling step ensures that examples will be split randomly into different mini-batches. \n",
        "\n",
        "<img src=\"https://github.com/hrushikeshsahu19/Improving-Deep-Neural-Networks-/blob/main/images/kiank_shuffle.png?raw=1\" style=\"width:550px;height:300px;\">\n",
        "\n",
        "- **Partition**: Partition the shuffled (X, Y) into mini-batches of size `mini_batch_size` (here 64). Note that the number of training examples is not always divisible by `mini_batch_size`. The last mini batch might be smaller, but you don't need to worry about this. When the final mini-batch is smaller than the full `mini_batch_size`, it will look like this: \n",
        "\n",
        "<img src=\"https://github.com/hrushikeshsahu19/Improving-Deep-Neural-Networks-/blob/main/images/kiank_partition.png?raw=1\" style=\"width:550px;height:300px;\">\n",
        "\n",
        "**Exercise**: Implement `random_mini_batches`. We coded the shuffling part for you. To help you with the partitioning step, we give you the following code that selects the indexes for the $1^{st}$ and $2^{nd}$ mini-batches:\n",
        "```python\n",
        "first_mini_batch_X = shuffled_X[:, 0 : mini_batch_size]\n",
        "second_mini_batch_X = shuffled_X[:, mini_batch_size : 2 * mini_batch_size]\n",
        "...\n",
        "```\n",
        "\n",
        "Note that the last mini-batch might end up smaller than `mini_batch_size=64`. Let $\\lfloor s \\rfloor$ represents $s$ rounded down to the nearest integer (this is `math.floor(s)` in Python). If the total number of examples is not a multiple of `mini_batch_size=64` then there will be $\\lfloor \\frac{m}{mini\\_batch\\_size}\\rfloor$ mini-batches with a full 64 examples, and the number of examples in the final mini-batch will be ($m-mini_\\_batch_\\_size \\times \\lfloor \\frac{m}{mini\\_batch\\_size}\\rfloor$). "
      ]
    },
    {
      "cell_type": "code",
      "metadata": {
        "collapsed": true,
        "id": "TRY2lprHpOLA"
      },
      "source": [
        "# GRADED FUNCTION: random_mini_batches\n",
        "\n",
        "def random_mini_batches(X, Y, mini_batch_size = 64, seed = 0):\n",
        "    \"\"\"\n",
        "    Creates a list of random minibatches from (X, Y)\n",
        "    \n",
        "    Arguments:\n",
        "    X -- input data, of shape (input size, number of examples)\n",
        "    Y -- true \"label\" vector (1 for blue dot / 0 for red dot), of shape (1, number of examples)\n",
        "    mini_batch_size -- size of the mini-batches, integer\n",
        "    \n",
        "    Returns:\n",
        "    mini_batches -- list of synchronous (mini_batch_X, mini_batch_Y)\n",
        "    \"\"\"\n",
        "    \n",
        "    np.random.seed(seed)            # To make your \"random\" minibatches the same as ours\n",
        "    m = X.shape[1]                  # number of training examples\n",
        "    mini_batches = []\n",
        "        \n",
        "    # Step 1: Shuffle (X, Y)\n",
        "    permutation = list(np.random.permutation(m))\n",
        "    shuffled_X = X[:, permutation]\n",
        "    shuffled_Y = Y[:, permutation].reshape((1,m))\n",
        "\n",
        "    # Step 2: Partition (shuffled_X, shuffled_Y). Minus the end case.\n",
        "    num_complete_minibatches = math.floor(m/mini_batch_size) # number of mini batches of size mini_batch_size in your partitionning\n",
        "    for k in range(0, num_complete_minibatches):\n",
        "        ### START CODE HERE ### (approx. 2 lines)\n",
        "        mini_batch_X = shuffled_X[:, k * mini_batch_size : (k + 1) * mini_batch_size]\n",
        "        mini_batch_Y = shuffled_Y[:, k * mini_batch_size : (k + 1) * mini_batch_size]\n",
        "        ### END CODE HERE ###\n",
        "        mini_batch = (mini_batch_X, mini_batch_Y)\n",
        "        mini_batches.append(mini_batch)\n",
        "    \n",
        "    # Handling the end case (last mini-batch < mini_batch_size)\n",
        "    if m % mini_batch_size != 0:\n",
        "        ### START CODE HERE ### (approx. 2 lines)\n",
        "        mini_batch_X = shuffled_X[:, math.floor(m / mini_batch_size) * mini_batch_size :]\n",
        "        mini_batch_Y = shuffled_Y[:, math.floor(m / mini_batch_size) * mini_batch_size :]\n",
        "\n",
        "        ### END CODE HERE ###\n",
        "        mini_batch = (mini_batch_X, mini_batch_Y)\n",
        "        mini_batches.append(mini_batch)\n",
        "    \n",
        "    return mini_batches"
      ],
      "execution_count": null,
      "outputs": []
    },
    {
      "cell_type": "code",
      "metadata": {
        "collapsed": true,
        "colab": {
          "base_uri": "https://localhost:8080/"
        },
        "id": "A7A0FeD5pOLD",
        "outputId": "0fc52e8e-869c-4b4e-e41d-16233e9b4c1b"
      },
      "source": [
        "X_assess, Y_assess, mini_batch_size = random_mini_batches_test_case()\n",
        "mini_batches = random_mini_batches(X_assess, Y_assess, mini_batch_size)\n",
        "\n",
        "print (\"shape of the 1st mini_batch_X: \" + str(mini_batches[0][0].shape))\n",
        "print (\"shape of the 2nd mini_batch_X: \" + str(mini_batches[1][0].shape))\n",
        "print (\"shape of the 3rd mini_batch_X: \" + str(mini_batches[2][0].shape))\n",
        "print (\"shape of the 1st mini_batch_Y: \" + str(mini_batches[0][1].shape))\n",
        "print (\"shape of the 2nd mini_batch_Y: \" + str(mini_batches[1][1].shape)) \n",
        "print (\"shape of the 3rd mini_batch_Y: \" + str(mini_batches[2][1].shape))\n",
        "print (\"mini batch sanity check: \" + str(mini_batches[0][0][0][0:3]))"
      ],
      "execution_count": null,
      "outputs": [
        {
          "output_type": "stream",
          "text": [
            "shape of the 1st mini_batch_X: (12288, 64)\n",
            "shape of the 2nd mini_batch_X: (12288, 64)\n",
            "shape of the 3rd mini_batch_X: (12288, 20)\n",
            "shape of the 1st mini_batch_Y: (1, 64)\n",
            "shape of the 2nd mini_batch_Y: (1, 64)\n",
            "shape of the 3rd mini_batch_Y: (1, 20)\n",
            "mini batch sanity check: [ 0.90085595 -0.7612069   0.2344157 ]\n"
          ],
          "name": "stdout"
        }
      ]
    },
    {
      "cell_type": "markdown",
      "metadata": {
        "id": "t2mkyvT4pOLE"
      },
      "source": [
        "**Expected Output**:\n",
        "\n",
        "<table style=\"width:50%\"> \n",
        "    <tr>\n",
        "    <td > **shape of the 1st mini_batch_X** </td> \n",
        "           <td > (12288, 64) </td> \n",
        "    </tr> \n",
        "    \n",
        "    <tr>\n",
        "    <td > **shape of the 2nd mini_batch_X** </td> \n",
        "           <td > (12288, 64) </td> \n",
        "    </tr> \n",
        "    \n",
        "    <tr>\n",
        "    <td > **shape of the 3rd mini_batch_X** </td> \n",
        "           <td > (12288, 20) </td> \n",
        "    </tr>\n",
        "    <tr>\n",
        "    <td > **shape of the 1st mini_batch_Y** </td> \n",
        "           <td > (1, 64) </td> \n",
        "    </tr> \n",
        "    <tr>\n",
        "    <td > **shape of the 2nd mini_batch_Y** </td> \n",
        "           <td > (1, 64) </td> \n",
        "    </tr> \n",
        "    <tr>\n",
        "    <td > **shape of the 3rd mini_batch_Y** </td> \n",
        "           <td > (1, 20) </td> \n",
        "    </tr> \n",
        "    <tr>\n",
        "    <td > **mini batch sanity check** </td> \n",
        "           <td > [ 0.90085595 -0.7612069   0.2344157 ] </td> \n",
        "    </tr>\n",
        "    \n",
        "</table>"
      ]
    },
    {
      "cell_type": "markdown",
      "metadata": {
        "id": "TsG6yvN5pOLG"
      },
      "source": [
        "<font color='blue'>\n",
        "**What you should remember**:\n",
        "- Shuffling and Partitioning are the two steps required to build mini-batches\n",
        "- Powers of two are often chosen to be the mini-batch size, e.g., 16, 32, 64, 128."
      ]
    },
    {
      "cell_type": "markdown",
      "metadata": {
        "id": "PHIm56VapOLH"
      },
      "source": [
        "## 3 - Momentum\n",
        "\n",
        "Because mini-batch gradient descent makes a parameter update after seeing just a subset of examples, the direction of the update has some variance, and so the path taken by mini-batch gradient descent will \"oscillate\" toward convergence. Using momentum can reduce these oscillations. \n",
        "\n",
        "Momentum takes into account the past gradients to smooth out the update. We will store the 'direction' of the previous gradients in the variable $v$. Formally, this will be the exponentially weighted average of the gradient on previous steps. You can also think of $v$ as the \"velocity\" of a ball rolling downhill, building up speed (and momentum) according to the direction of the gradient/slope of the hill. \n",
        "\n",
        "<img src=\"https://github.com/hrushikeshsahu19/Improving-Deep-Neural-Networks-/blob/main/images/opt_momentum.png?raw=1\" style=\"width:400px;height:250px;\">\n",
        "<caption><center> <u><font color='purple'>**Figure 3**</u><font color='purple'>: The red arrows shows the direction taken by one step of mini-batch gradient descent with momentum. The blue points show the direction of the gradient (with respect to the current mini-batch) on each step. Rather than just following the gradient, we let the gradient influence $v$ and then take a step in the direction of $v$.<br> <font color='black'> </center>\n",
        "\n",
        "\n",
        "**Exercise**: Initialize the velocity. The velocity, $v$, is a python dictionary that needs to be initialized with arrays of zeros. Its keys are the same as those in the `grads` dictionary, that is:\n",
        "for $l =1,...,L$:\n",
        "```python\n",
        "v[\"dW\" + str(l+1)] = ... #(numpy array of zeros with the same shape as parameters[\"W\" + str(l+1)])\n",
        "v[\"db\" + str(l+1)] = ... #(numpy array of zeros with the same shape as parameters[\"b\" + str(l+1)])\n",
        "```\n",
        "**Note** that the iterator l starts at 0 in the for loop while the first parameters are v[\"dW1\"] and v[\"db1\"] (that's a \"one\" on the superscript). This is why we are shifting l to l+1 in the `for` loop."
      ]
    },
    {
      "cell_type": "code",
      "metadata": {
        "collapsed": true,
        "id": "8ijM5MPzpOLI"
      },
      "source": [
        "# GRADED FUNCTION: initialize_velocity\n",
        "\n",
        "def initialize_velocity(parameters):\n",
        "    \"\"\"\n",
        "    Initializes the velocity as a python dictionary with:\n",
        "                - keys: \"dW1\", \"db1\", ..., \"dWL\", \"dbL\" \n",
        "                - values: numpy arrays of zeros of the same shape as the corresponding gradients/parameters.\n",
        "    Arguments:\n",
        "    parameters -- python dictionary containing your parameters.\n",
        "                    parameters['W' + str(l)] = Wl\n",
        "                    parameters['b' + str(l)] = bl\n",
        "    \n",
        "    Returns:\n",
        "    v -- python dictionary containing the current velocity.\n",
        "                    v['dW' + str(l)] = velocity of dWl\n",
        "                    v['db' + str(l)] = velocity of dbl\n",
        "    \"\"\"\n",
        "    \n",
        "    L = len(parameters) // 2 # number of layers in the neural networks\n",
        "    v = {}\n",
        "    \n",
        "    # Initialize velocity\n",
        "    for l in range(L):\n",
        "        ### START CODE HERE ### (approx. 2 lines)\n",
        "        v[\"dW\" + str(l+1)] = np.zeros(np.shape(parameters[\"W\" + str(l+1)]))\n",
        "        v[\"db\" + str(l+1)] =  np.zeros(np.shape(parameters[\"b\" + str(l+1)]))\n",
        "        ### END CODE HERE ###\n",
        "        \n",
        "    return v"
      ],
      "execution_count": null,
      "outputs": []
    },
    {
      "cell_type": "code",
      "metadata": {
        "collapsed": true,
        "colab": {
          "base_uri": "https://localhost:8080/"
        },
        "id": "WO5B77ElpOLJ",
        "outputId": "85b8ba08-93d3-4614-9036-61d2df547ca3"
      },
      "source": [
        "parameters = initialize_velocity_test_case()\n",
        "\n",
        "v = initialize_velocity(parameters)\n",
        "print(\"v[\\\"dW1\\\"] = \" + str(v[\"dW1\"]))\n",
        "print(\"v[\\\"db1\\\"] = \" + str(v[\"db1\"]))\n",
        "print(\"v[\\\"dW2\\\"] = \" + str(v[\"dW2\"]))\n",
        "print(\"v[\\\"db2\\\"] = \" + str(v[\"db2\"]))"
      ],
      "execution_count": null,
      "outputs": [
        {
          "output_type": "stream",
          "text": [
            "v[\"dW1\"] = [[0. 0. 0.]\n",
            " [0. 0. 0.]]\n",
            "v[\"db1\"] = [[0.]\n",
            " [0.]]\n",
            "v[\"dW2\"] = [[0. 0. 0.]\n",
            " [0. 0. 0.]\n",
            " [0. 0. 0.]]\n",
            "v[\"db2\"] = [[0.]\n",
            " [0.]\n",
            " [0.]]\n"
          ],
          "name": "stdout"
        }
      ]
    },
    {
      "cell_type": "markdown",
      "metadata": {
        "id": "CwQW0M9XpOLJ"
      },
      "source": [
        "**Expected Output**:\n",
        "\n",
        "<table style=\"width:40%\"> \n",
        "    <tr>\n",
        "    <td > **v[\"dW1\"]** </td> \n",
        "           <td > [[ 0.  0.  0.]\n",
        " [ 0.  0.  0.]] </td> \n",
        "    </tr> \n",
        "    \n",
        "    <tr>\n",
        "    <td > **v[\"db1\"]** </td> \n",
        "           <td > [[ 0.]\n",
        " [ 0.]] </td> \n",
        "    </tr> \n",
        "    \n",
        "    <tr>\n",
        "    <td > **v[\"dW2\"]** </td> \n",
        "           <td > [[ 0.  0.  0.]\n",
        " [ 0.  0.  0.]\n",
        " [ 0.  0.  0.]] </td> \n",
        "    </tr> \n",
        "    \n",
        "    <tr>\n",
        "    <td > **v[\"db2\"]** </td> \n",
        "           <td > [[ 0.]\n",
        " [ 0.]\n",
        " [ 0.]] </td> \n",
        "    </tr> \n",
        "</table>\n"
      ]
    },
    {
      "cell_type": "markdown",
      "metadata": {
        "id": "BOaZgpfxpOLK"
      },
      "source": [
        "**Exercise**:  Now, implement the parameters update with momentum. The momentum update rule is, for $l = 1, ..., L$: \n",
        "\n",
        "$$ \\begin{cases}\n",
        "v_{dW^{[l]}} = \\beta v_{dW^{[l]}} + (1 - \\beta) dW^{[l]} \\\\\n",
        "W^{[l]} = W^{[l]} - \\alpha v_{dW^{[l]}}\n",
        "\\end{cases}\\tag{3}$$\n",
        "\n",
        "$$\\begin{cases}\n",
        "v_{db^{[l]}} = \\beta v_{db^{[l]}} + (1 - \\beta) db^{[l]} \\\\\n",
        "b^{[l]} = b^{[l]} - \\alpha v_{db^{[l]}} \n",
        "\\end{cases}\\tag{4}$$\n",
        "\n",
        "where L is the number of layers, $\\beta$ is the momentum and $\\alpha$ is the learning rate. All parameters should be stored in the `parameters` dictionary.  Note that the iterator `l` starts at 0 in the `for` loop while the first parameters are $W^{[1]}$ and $b^{[1]}$ (that's a \"one\" on the superscript). So you will need to shift `l` to `l+1` when coding."
      ]
    },
    {
      "cell_type": "code",
      "metadata": {
        "collapsed": true,
        "id": "KzbFRQFtpOLL"
      },
      "source": [
        "# GRADED FUNCTION: update_parameters_with_momentum\n",
        "\n",
        "def update_parameters_with_momentum(parameters, grads, v, beta, learning_rate):\n",
        "    \"\"\"\n",
        "    Update parameters using Momentum\n",
        "    \n",
        "    Arguments:\n",
        "    parameters -- python dictionary containing your parameters:\n",
        "                    parameters['W' + str(l)] = Wl\n",
        "                    parameters['b' + str(l)] = bl\n",
        "    grads -- python dictionary containing your gradients for each parameters:\n",
        "                    grads['dW' + str(l)] = dWl\n",
        "                    grads['db' + str(l)] = dbl\n",
        "    v -- python dictionary containing the current velocity:\n",
        "                    v['dW' + str(l)] = ...\n",
        "                    v['db' + str(l)] = ...\n",
        "    beta -- the momentum hyperparameter, scalar\n",
        "    learning_rate -- the learning rate, scalar\n",
        "    \n",
        "    Returns:\n",
        "    parameters -- python dictionary containing your updated parameters \n",
        "    v -- python dictionary containing your updated velocities\n",
        "    \"\"\"\n",
        "\n",
        "    L = len(parameters) // 2 # number of layers in the neural networks\n",
        "    \n",
        "    # Momentum update for each parameter\n",
        "    for l in range(L):\n",
        "        \n",
        "        ### START CODE HERE ### (approx. 4 lines)\n",
        "        # compute velocities\n",
        "        v[\"dW\" + str(l+1)] = beta * v[\"dW\" + str(l+1)] + (1 - beta) * grads['dW' + str(l+1)]\n",
        "        v[\"db\" + str(l+1)] = beta * v[\"db\" + str(l+1)] + (1 - beta) * grads['db' + str(l+1)]\n",
        "        # update parameters\n",
        "        parameters[\"W\" + str(l+1)] = parameters[\"W\" + str(l+1)] - learning_rate * v[\"dW\" + str(l+1)]\n",
        "        parameters[\"b\" + str(l+1)] = parameters[\"b\" + str(l+1)] - learning_rate * v[\"db\" + str(l+1)]\n",
        "        ### END CODE HERE ###\n",
        "        \n",
        "    return parameters, v"
      ],
      "execution_count": null,
      "outputs": []
    },
    {
      "cell_type": "code",
      "metadata": {
        "collapsed": true,
        "colab": {
          "base_uri": "https://localhost:8080/"
        },
        "id": "dBPRvvLLpOLL",
        "outputId": "57516d9a-da29-4e3e-d34e-06138dbb5589"
      },
      "source": [
        "parameters, grads, v = update_parameters_with_momentum_test_case()\n",
        "\n",
        "parameters, v = update_parameters_with_momentum(parameters, grads, v, beta = 0.9, learning_rate = 0.01)\n",
        "print(\"W1 = \" + str(parameters[\"W1\"]))\n",
        "print(\"b1 = \" + str(parameters[\"b1\"]))\n",
        "print(\"W2 = \" + str(parameters[\"W2\"]))\n",
        "print(\"b2 = \" + str(parameters[\"b2\"]))\n",
        "print(\"v[\\\"dW1\\\"] = \" + str(v[\"dW1\"]))\n",
        "print(\"v[\\\"db1\\\"] = \" + str(v[\"db1\"]))\n",
        "print(\"v[\\\"dW2\\\"] = \" + str(v[\"dW2\"]))\n",
        "print(\"v[\\\"db2\\\"] = \" + str(v[\"db2\"]))"
      ],
      "execution_count": null,
      "outputs": [
        {
          "output_type": "stream",
          "text": [
            "W1 = [[ 1.62544598 -0.61290114 -0.52907334]\n",
            " [-1.07347112  0.86450677 -2.30085497]]\n",
            "b1 = [[ 1.74493465]\n",
            " [-0.76027113]]\n",
            "W2 = [[ 0.31930698 -0.24990073  1.4627996 ]\n",
            " [-2.05974396 -0.32173003 -0.38320915]\n",
            " [ 1.13444069 -1.0998786  -0.1713109 ]]\n",
            "b2 = [[-0.87809283]\n",
            " [ 0.04055394]\n",
            " [ 0.58207317]]\n",
            "v[\"dW1\"] = [[-0.11006192  0.11447237  0.09015907]\n",
            " [ 0.05024943  0.09008559 -0.06837279]]\n",
            "v[\"db1\"] = [[-0.01228902]\n",
            " [-0.09357694]]\n",
            "v[\"dW2\"] = [[-0.02678881  0.05303555 -0.06916608]\n",
            " [-0.03967535 -0.06871727 -0.08452056]\n",
            " [-0.06712461 -0.00126646 -0.11173103]]\n",
            "v[\"db2\"] = [[0.02344157]\n",
            " [0.16598022]\n",
            " [0.07420442]]\n"
          ],
          "name": "stdout"
        }
      ]
    },
    {
      "cell_type": "markdown",
      "metadata": {
        "id": "3IQv7tUUpOLM"
      },
      "source": [
        "**Expected Output**:\n",
        "\n",
        "<table style=\"width:90%\"> \n",
        "    <tr>\n",
        "    <td > **W1** </td> \n",
        "           <td > [[ 1.62544598 -0.61290114 -0.52907334]\n",
        " [-1.07347112  0.86450677 -2.30085497]] </td> \n",
        "    </tr> \n",
        "    \n",
        "    <tr>\n",
        "    <td > **b1** </td> \n",
        "           <td > [[ 1.74493465]\n",
        " [-0.76027113]] </td> \n",
        "    </tr> \n",
        "    \n",
        "    <tr>\n",
        "    <td > **W2** </td> \n",
        "           <td > [[ 0.31930698 -0.24990073  1.4627996 ]\n",
        " [-2.05974396 -0.32173003 -0.38320915]\n",
        " [ 1.13444069 -1.0998786  -0.1713109 ]] </td> \n",
        "    </tr> \n",
        "    \n",
        "    <tr>\n",
        "    <td > **b2** </td> \n",
        "           <td > [[-0.87809283]\n",
        " [ 0.04055394]\n",
        " [ 0.58207317]] </td> \n",
        "    </tr> \n",
        "\n",
        "    <tr>\n",
        "    <td > **v[\"dW1\"]** </td> \n",
        "           <td > [[-0.11006192  0.11447237  0.09015907]\n",
        " [ 0.05024943  0.09008559 -0.06837279]] </td> \n",
        "    </tr> \n",
        "    \n",
        "    <tr>\n",
        "    <td > **v[\"db1\"]** </td> \n",
        "           <td > [[-0.01228902]\n",
        " [-0.09357694]] </td> \n",
        "    </tr> \n",
        "    \n",
        "    <tr>\n",
        "    <td > **v[\"dW2\"]** </td> \n",
        "           <td > [[-0.02678881  0.05303555 -0.06916608]\n",
        " [-0.03967535 -0.06871727 -0.08452056]\n",
        " [-0.06712461 -0.00126646 -0.11173103]] </td> \n",
        "    </tr> \n",
        "    \n",
        "    <tr>\n",
        "    <td > **v[\"db2\"]** </td> \n",
        "           <td > [[ 0.02344157]\n",
        " [ 0.16598022]\n",
        " [ 0.07420442]]</td> \n",
        "    </tr> \n",
        "</table>\n",
        "\n"
      ]
    },
    {
      "cell_type": "markdown",
      "metadata": {
        "collapsed": true,
        "id": "xu5iFW7KpOLN"
      },
      "source": [
        "**Note** that:\n",
        "- The velocity is initialized with zeros. So the algorithm will take a few iterations to \"build up\" velocity and start to take bigger steps.\n",
        "- If $\\beta = 0$, then this just becomes standard gradient descent without momentum. \n",
        "\n",
        "**How do you choose $\\beta$?**\n",
        "\n",
        "- The larger the momentum $\\beta$ is, the smoother the update because the more we take the past gradients into account. But if $\\beta$ is too big, it could also smooth out the updates too much. \n",
        "- Common values for $\\beta$ range from 0.8 to 0.999. If you don't feel inclined to tune this, $\\beta = 0.9$ is often a reasonable default. \n",
        "- Tuning the optimal $\\beta$ for your model might need trying several values to see what works best in term of reducing the value of the cost function $J$. "
      ]
    },
    {
      "cell_type": "markdown",
      "metadata": {
        "id": "KrW1OEPepOLN"
      },
      "source": [
        "<font color='blue'>\n",
        "**What you should remember**:\n",
        "- Momentum takes past gradients into account to smooth out the steps of gradient descent. It can be applied with batch gradient descent, mini-batch gradient descent or stochastic gradient descent.\n",
        "- You have to tune a momentum hyperparameter $\\beta$ and a learning rate $\\alpha$."
      ]
    },
    {
      "cell_type": "markdown",
      "metadata": {
        "id": "Cd44dJk_pOLO"
      },
      "source": [
        "## 4 - Adam\n",
        "\n",
        "Adam is one of the most effective optimization algorithms for training neural networks. It combines ideas from RMSProp (described in lecture) and Momentum. \n",
        "\n",
        "**How does Adam work?**\n",
        "1. It calculates an exponentially weighted average of past gradients, and stores it in variables $v$ (before bias correction) and $v^{corrected}$ (with bias correction). \n",
        "2. It calculates an exponentially weighted average of the squares of the past gradients, and  stores it in variables $s$ (before bias correction) and $s^{corrected}$ (with bias correction). \n",
        "3. It updates parameters in a direction based on combining information from \"1\" and \"2\".\n",
        "\n",
        "The update rule is, for $l = 1, ..., L$: \n",
        "\n",
        "$$\\begin{cases}\n",
        "v_{dW^{[l]}} = \\beta_1 v_{dW^{[l]}} + (1 - \\beta_1) \\frac{\\partial \\mathcal{J} }{ \\partial W^{[l]} } \\\\\n",
        "v^{corrected}_{dW^{[l]}} = \\frac{v_{dW^{[l]}}}{1 - (\\beta_1)^t} \\\\\n",
        "s_{dW^{[l]}} = \\beta_2 s_{dW^{[l]}} + (1 - \\beta_2) (\\frac{\\partial \\mathcal{J} }{\\partial W^{[l]} })^2 \\\\\n",
        "s^{corrected}_{dW^{[l]}} = \\frac{s_{dW^{[l]}}}{1 - (\\beta_2)^t} \\\\\n",
        "W^{[l]} = W^{[l]} - \\alpha \\frac{v^{corrected}_{dW^{[l]}}}{\\sqrt{s^{corrected}_{dW^{[l]}}} + \\varepsilon}\n",
        "\\end{cases}$$\n",
        "where:\n",
        "- t counts the number of steps taken of Adam \n",
        "- L is the number of layers\n",
        "- $\\beta_1$ and $\\beta_2$ are hyperparameters that control the two exponentially weighted averages. \n",
        "- $\\alpha$ is the learning rate\n",
        "- $\\varepsilon$ is a very small number to avoid dividing by zero\n",
        "\n",
        "As usual, we will store all parameters in the `parameters` dictionary  "
      ]
    },
    {
      "cell_type": "markdown",
      "metadata": {
        "id": "sbXGZhtNpOLP"
      },
      "source": [
        "**Exercise**: Initialize the Adam variables $v, s$ which keep track of the past information.\n",
        "\n",
        "**Instruction**: The variables $v, s$ are python dictionaries that need to be initialized with arrays of zeros. Their keys are the same as for `grads`, that is:\n",
        "for $l = 1, ..., L$:\n",
        "```python\n",
        "v[\"dW\" + str(l+1)] = ... #(numpy array of zeros with the same shape as parameters[\"W\" + str(l+1)])\n",
        "v[\"db\" + str(l+1)] = ... #(numpy array of zeros with the same shape as parameters[\"b\" + str(l+1)])\n",
        "s[\"dW\" + str(l+1)] = ... #(numpy array of zeros with the same shape as parameters[\"W\" + str(l+1)])\n",
        "s[\"db\" + str(l+1)] = ... #(numpy array of zeros with the same shape as parameters[\"b\" + str(l+1)])\n",
        "\n",
        "```"
      ]
    },
    {
      "cell_type": "code",
      "metadata": {
        "collapsed": true,
        "id": "p3x_LeDZpOLQ"
      },
      "source": [
        "# GRADED FUNCTION: initialize_adam\n",
        "\n",
        "def initialize_adam(parameters) :\n",
        "    \"\"\"\n",
        "    Initializes v and s as two python dictionaries with:\n",
        "                - keys: \"dW1\", \"db1\", ..., \"dWL\", \"dbL\" \n",
        "                - values: numpy arrays of zeros of the same shape as the corresponding gradients/parameters.\n",
        "    \n",
        "    Arguments:\n",
        "    parameters -- python dictionary containing your parameters.\n",
        "                    parameters[\"W\" + str(l)] = Wl\n",
        "                    parameters[\"b\" + str(l)] = bl\n",
        "    \n",
        "    Returns: \n",
        "    v -- python dictionary that will contain the exponentially weighted average of the gradient.\n",
        "                    v[\"dW\" + str(l)] = ...\n",
        "                    v[\"db\" + str(l)] = ...\n",
        "    s -- python dictionary that will contain the exponentially weighted average of the squared gradient.\n",
        "                    s[\"dW\" + str(l)] = ...\n",
        "                    s[\"db\" + str(l)] = ...\n",
        "\n",
        "    \"\"\"\n",
        "    \n",
        "    L = len(parameters) // 2 # number of layers in the neural networks\n",
        "    v = {}\n",
        "    s = {}\n",
        "    \n",
        "    # Initialize v, s. Input: \"parameters\". Outputs: \"v, s\".\n",
        "    for l in range(L):\n",
        "    ### START CODE HERE ### (approx. 4 lines)\n",
        "        ws = np.zeros(np.shape(parameters[\"W\" + str(l+1)]))\n",
        "        bs = np.zeros(np.shape(parameters[\"b\" + str(l+1)]))\n",
        "        v[\"dW\" + str(l+1)] =ws\n",
        "        v[\"db\" + str(l+1)] = bs\n",
        "        s[\"dW\" + str(l+1)] = ws\n",
        "        s[\"db\" + str(l+1)] = bs\n",
        "    ### END CODE HERE ###\n",
        "    \n",
        "    return v, s"
      ],
      "execution_count": null,
      "outputs": []
    },
    {
      "cell_type": "code",
      "metadata": {
        "collapsed": true,
        "colab": {
          "base_uri": "https://localhost:8080/"
        },
        "id": "vFPkbVwppOLR",
        "outputId": "a37983de-10fb-400b-9d71-a868d86f4745"
      },
      "source": [
        "parameters = initialize_adam_test_case()\n",
        "\n",
        "v, s = initialize_adam(parameters)\n",
        "print(\"v[\\\"dW1\\\"] = \" + str(v[\"dW1\"]))\n",
        "print(\"v[\\\"db1\\\"] = \" + str(v[\"db1\"]))\n",
        "print(\"v[\\\"dW2\\\"] = \" + str(v[\"dW2\"]))\n",
        "print(\"v[\\\"db2\\\"] = \" + str(v[\"db2\"]))\n",
        "print(\"s[\\\"dW1\\\"] = \" + str(s[\"dW1\"]))\n",
        "print(\"s[\\\"db1\\\"] = \" + str(s[\"db1\"]))\n",
        "print(\"s[\\\"dW2\\\"] = \" + str(s[\"dW2\"]))\n",
        "print(\"s[\\\"db2\\\"] = \" + str(s[\"db2\"]))\n"
      ],
      "execution_count": null,
      "outputs": [
        {
          "output_type": "stream",
          "text": [
            "v[\"dW1\"] = [[0. 0. 0.]\n",
            " [0. 0. 0.]]\n",
            "v[\"db1\"] = [[0.]\n",
            " [0.]]\n",
            "v[\"dW2\"] = [[0. 0. 0.]\n",
            " [0. 0. 0.]\n",
            " [0. 0. 0.]]\n",
            "v[\"db2\"] = [[0.]\n",
            " [0.]\n",
            " [0.]]\n",
            "s[\"dW1\"] = [[0. 0. 0.]\n",
            " [0. 0. 0.]]\n",
            "s[\"db1\"] = [[0.]\n",
            " [0.]]\n",
            "s[\"dW2\"] = [[0. 0. 0.]\n",
            " [0. 0. 0.]\n",
            " [0. 0. 0.]]\n",
            "s[\"db2\"] = [[0.]\n",
            " [0.]\n",
            " [0.]]\n"
          ],
          "name": "stdout"
        }
      ]
    },
    {
      "cell_type": "markdown",
      "metadata": {
        "id": "VfPNrQ6VpOLS"
      },
      "source": [
        "**Expected Output**:\n",
        "\n",
        "<table style=\"width:40%\"> \n",
        "    <tr>\n",
        "    <td > **v[\"dW1\"]** </td> \n",
        "           <td > [[ 0.  0.  0.]\n",
        " [ 0.  0.  0.]] </td> \n",
        "    </tr> \n",
        "    \n",
        "    <tr>\n",
        "    <td > **v[\"db1\"]** </td> \n",
        "           <td > [[ 0.]\n",
        " [ 0.]] </td> \n",
        "    </tr> \n",
        "    \n",
        "    <tr>\n",
        "    <td > **v[\"dW2\"]** </td> \n",
        "           <td > [[ 0.  0.  0.]\n",
        " [ 0.  0.  0.]\n",
        " [ 0.  0.  0.]] </td> \n",
        "    </tr> \n",
        "    \n",
        "    <tr>\n",
        "    <td > **v[\"db2\"]** </td> \n",
        "           <td > [[ 0.]\n",
        " [ 0.]\n",
        " [ 0.]] </td> \n",
        "    </tr> \n",
        "    <tr>\n",
        "    <td > **s[\"dW1\"]** </td> \n",
        "           <td > [[ 0.  0.  0.]\n",
        " [ 0.  0.  0.]] </td> \n",
        "    </tr> \n",
        "    \n",
        "    <tr>\n",
        "    <td > **s[\"db1\"]** </td> \n",
        "           <td > [[ 0.]\n",
        " [ 0.]] </td> \n",
        "    </tr> \n",
        "    \n",
        "    <tr>\n",
        "    <td > **s[\"dW2\"]** </td> \n",
        "           <td > [[ 0.  0.  0.]\n",
        " [ 0.  0.  0.]\n",
        " [ 0.  0.  0.]] </td> \n",
        "    </tr> \n",
        "    \n",
        "    <tr>\n",
        "    <td > **s[\"db2\"]** </td> \n",
        "           <td > [[ 0.]\n",
        " [ 0.]\n",
        " [ 0.]] </td> \n",
        "    </tr>\n",
        "\n",
        "</table>\n"
      ]
    },
    {
      "cell_type": "markdown",
      "metadata": {
        "id": "D7Mhd3OapOLS"
      },
      "source": [
        "**Exercise**:  Now, implement the parameters update with Adam. Recall the general update rule is, for $l = 1, ..., L$: \n",
        "\n",
        "$$\\begin{cases}\n",
        "v_{W^{[l]}} = \\beta_1 v_{W^{[l]}} + (1 - \\beta_1) \\frac{\\partial J }{ \\partial W^{[l]} } \\\\\n",
        "v^{corrected}_{W^{[l]}} = \\frac{v_{W^{[l]}}}{1 - (\\beta_1)^t} \\\\\n",
        "s_{W^{[l]}} = \\beta_2 s_{W^{[l]}} + (1 - \\beta_2) (\\frac{\\partial J }{\\partial W^{[l]} })^2 \\\\\n",
        "s^{corrected}_{W^{[l]}} = \\frac{s_{W^{[l]}}}{1 - (\\beta_2)^t} \\\\\n",
        "W^{[l]} = W^{[l]} - \\alpha \\frac{v^{corrected}_{W^{[l]}}}{\\sqrt{s^{corrected}_{W^{[l]}}}+\\varepsilon}\n",
        "\\end{cases}$$\n",
        "\n",
        "\n",
        "**Note** that the iterator `l` starts at 0 in the `for` loop while the first parameters are $W^{[1]}$ and $b^{[1]}$. You need to shift `l` to `l+1` when coding."
      ]
    },
    {
      "cell_type": "code",
      "metadata": {
        "id": "EdpMMhQvttJq"
      },
      "source": [
        "\n",
        "# GRADED FUNCTION: update_parameters_with_adam\n",
        "\n",
        "def update_parameters_with_adam(parameters, grads, v, s, t, learning_rate = 0.01,\n",
        "                                beta1 = 0.9, beta2 = 0.999,  epsilon = 1e-8):\n",
        "    \"\"\"\n",
        "    Update parameters using Adam\n",
        "    \n",
        "    Arguments:\n",
        "    parameters -- python dictionary containing your parameters:\n",
        "                    parameters['W' + str(l)] = Wl\n",
        "                    parameters['b' + str(l)] = bl\n",
        "    grads -- python dictionary containing your gradients for each parameters:\n",
        "                    grads['dW' + str(l)] = dWl\n",
        "                    grads['db' + str(l)] = dbl\n",
        "    v -- Adam variable, moving average of the first gradient, python dictionary\n",
        "    s -- Adam variable, moving average of the squared gradient, python dictionary\n",
        "    learning_rate -- the learning rate, scalar.\n",
        "    beta1 -- Exponential decay hyperparameter for the first moment estimates \n",
        "    beta2 -- Exponential decay hyperparameter for the second moment estimates \n",
        "    epsilon -- hyperparameter preventing division by zero in Adam updates\n",
        "\n",
        "    Returns:\n",
        "    parameters -- python dictionary containing your updated parameters \n",
        "    v -- Adam variable, moving average of the first gradient, python dictionary\n",
        "    s -- Adam variable, moving average of the squared gradient, python dictionary\n",
        "    \"\"\"\n",
        "    \n",
        "    L = len(parameters) // 2                 # number of layers in the neural networks\n",
        "    v_corrected = {}                         # Initializing first moment estimate, python dictionary\n",
        "    s_corrected = {}                         # Initializing second moment estimate, python dictionary\n",
        "    \n",
        "    # Perform Adam update on all parameters\n",
        "    for l in range(L):\n",
        "        # Moving average of the gradients. Inputs: \"v, grads, beta1\". Output: \"v\".\n",
        "        ### START CODE HERE ### (approx. 2 lines)\n",
        "        v[\"dW\" + str(l+1)] = beta1 * v[\"dW\" + str(l+1)] + (1 - beta1) * grads['dW' + str(l+1)]\n",
        "        v[\"db\" + str(l+1)] = beta1 * v[\"db\" + str(l+1)] + (1 - beta1) * grads['db' + str(l+1)]\n",
        "        ### END CODE HERE ###\n",
        "\n",
        "        # Compute bias-corrected first moment estimate. Inputs: \"v, beta1, t\". Output: \"v_corrected\".\n",
        "        ### START CODE HERE ### (approx. 2 lines)\n",
        "        v_corrected[\"dW\" + str(l+1)] = v[\"dW\" + str(l+1)] / (1 - beta1 ** t)\n",
        "        v_corrected[\"db\" + str(l+1)] = v[\"db\" + str(l+1)] / (1 - beta1 ** t)\n",
        "        ### END CODE HERE ###\n",
        "\n",
        "        # Moving average of the squared gradients. Inputs: \"s, grads, beta2\". Output: \"s\".\n",
        "        ### START CODE HERE ### (approx. 2 lines)\n",
        "        s[\"dW\" + str(l+1)] = beta2 * s[\"dW\" + str(l+1)] + (1 - beta2) * np.power(grads['dW' + str(l+1)], 2)\n",
        "        s[\"db\" + str(l+1)] = beta2 * s[\"db\" + str(l+1)] + (1 - beta2) * np.power(grads['db' + str(l+1)], 2)\n",
        "        ### END CODE HERE ###\n",
        "        ### END CODE HERE ###\n",
        "\n",
        "        # Compute bias-corrected second raw moment estimate. Inputs: \"s, beta2, t\". Output: \"s_corrected\".\n",
        "        ### START CODE HERE ### (approx. 2 lines)\n",
        "        s_corrected[\"dW\" + str(l+1)] = s[\"dW\" + str(l+1)] / (1 - beta2 ** t)\n",
        "        s_corrected[\"db\" + str(l+1)] = s[\"db\" + str(l+1)] / (1 - beta2 ** t)\n",
        "        ### END CODE HERE ###\n",
        "\n",
        "        # Update parameters. Inputs: \"parameters, learning_rate, v_corrected, s_corrected, epsilon\". Output: \"parameters\".\n",
        "        ### START CODE HERE ### (approx. 2 lines)\n",
        "        parameters[\"W\" + str(l+1)] = parameters[\"W\" + str(l+1)] - learning_rate * (v_corrected[\"dW\" + str(l+1)] / (np.sqrt(s_corrected[\"dW\" + str(l+1)]) + epsilon))\n",
        "        parameters[\"b\" + str(l+1)] = parameters[\"b\" + str(l+1)] - learning_rate * (v_corrected[\"db\" + str(l+1)] / (np.sqrt(s_corrected[\"db\" + str(l+1)]) + epsilon)) \n",
        "        ### END CODE HERE ###_rate\n",
        "\n",
        "    return parameters, v, s"
      ],
      "execution_count": null,
      "outputs": []
    },
    {
      "cell_type": "code",
      "metadata": {
        "collapsed": true,
        "scrolled": false,
        "colab": {
          "base_uri": "https://localhost:8080/"
        },
        "id": "SPL5jp5ApOLT",
        "outputId": "4d278619-30a7-4058-d68e-39a3cb2652fc"
      },
      "source": [
        "parameters, grads, v, s = update_parameters_with_adam_test_case()\n",
        "parameters, v, s  = update_parameters_with_adam(parameters, grads, v, s, t = 2)\n",
        "\n",
        "print(\"W1 = \" + str(parameters[\"W1\"]))\n",
        "print(\"b1 = \" + str(parameters[\"b1\"]))\n",
        "print(\"W2 = \" + str(parameters[\"W2\"]))\n",
        "print(\"b2 = \" + str(parameters[\"b2\"]))\n",
        "print(\"v[\\\"dW1\\\"] = \" + str(v[\"dW1\"]))\n",
        "print(\"v[\\\"db1\\\"] = \" + str(v[\"db1\"]))\n",
        "print(\"v[\\\"dW2\\\"] = \" + str(v[\"dW2\"]))\n",
        "print(\"v[\\\"db2\\\"] = \" + str(v[\"db2\"]))\n",
        "print(\"s[\\\"dW1\\\"] = \" + str(s[\"dW1\"]))\n",
        "print(\"s[\\\"db1\\\"] = \" + str(s[\"db1\"]))\n",
        "print(\"s[\\\"dW2\\\"] = \" + str(s[\"dW2\"]))\n",
        "print(\"s[\\\"db2\\\"] = \" + str(s[\"db2\"]))"
      ],
      "execution_count": null,
      "outputs": [
        {
          "output_type": "stream",
          "text": [
            "W1 = [[ 1.63178673 -0.61919778 -0.53561312]\n",
            " [-1.08040999  0.85796626 -2.29409733]]\n",
            "b1 = [[ 1.75225313]\n",
            " [-0.75376553]]\n",
            "W2 = [[ 0.32648046 -0.25681174  1.46954931]\n",
            " [-2.05269934 -0.31497584 -0.37661299]\n",
            " [ 1.14121081 -1.09244991 -0.16498684]]\n",
            "b2 = [[-0.88529979]\n",
            " [ 0.03477238]\n",
            " [ 0.57537385]]\n",
            "v[\"dW1\"] = [[-0.11006192  0.11447237  0.09015907]\n",
            " [ 0.05024943  0.09008559 -0.06837279]]\n",
            "v[\"db1\"] = [[-0.01228902]\n",
            " [-0.09357694]]\n",
            "v[\"dW2\"] = [[-0.02678881  0.05303555 -0.06916608]\n",
            " [-0.03967535 -0.06871727 -0.08452056]\n",
            " [-0.06712461 -0.00126646 -0.11173103]]\n",
            "v[\"db2\"] = [[0.02344157]\n",
            " [0.16598022]\n",
            " [0.07420442]]\n",
            "s[\"dW1\"] = [[0.00121136 0.00131039 0.00081287]\n",
            " [0.0002525  0.00081154 0.00046748]]\n",
            "s[\"db1\"] = [[1.51020075e-05]\n",
            " [8.75664434e-04]]\n",
            "s[\"dW2\"] = [[7.17640232e-05 2.81276921e-04 4.78394595e-04]\n",
            " [1.57413361e-04 4.72206320e-04 7.14372576e-04]\n",
            " [4.50571368e-04 1.60392066e-07 1.24838242e-03]]\n",
            "s[\"db2\"] = [[5.49507194e-05]\n",
            " [2.75494327e-03]\n",
            " [5.50629536e-04]]\n"
          ],
          "name": "stdout"
        }
      ]
    },
    {
      "cell_type": "markdown",
      "metadata": {
        "id": "MMrpy_GDpOLU"
      },
      "source": [
        "**Expected Output**:\n",
        "\n",
        "<table> \n",
        "    <tr>\n",
        "    <td > **W1** </td> \n",
        "           <td > [[ 1.63178673 -0.61919778 -0.53561312]\n",
        " [-1.08040999  0.85796626 -2.29409733]] </td> \n",
        "    </tr> \n",
        "    \n",
        "    <tr>\n",
        "    <td > **b1** </td> \n",
        "           <td > [[ 1.75225313]\n",
        " [-0.75376553]] </td> \n",
        "    </tr> \n",
        "    \n",
        "    <tr>\n",
        "    <td > **W2** </td> \n",
        "           <td > [[ 0.32648046 -0.25681174  1.46954931]\n",
        " [-2.05269934 -0.31497584 -0.37661299]\n",
        " [ 1.14121081 -1.09245036 -0.16498684]] </td> \n",
        "    </tr> \n",
        "    \n",
        "    <tr>\n",
        "    <td > **b2** </td> \n",
        "           <td > [[-0.88529978]\n",
        " [ 0.03477238]\n",
        " [ 0.57537385]] </td> \n",
        "    </tr> \n",
        "    <tr>\n",
        "    <td > **v[\"dW1\"]** </td> \n",
        "           <td > [[-0.11006192  0.11447237  0.09015907]\n",
        " [ 0.05024943  0.09008559 -0.06837279]] </td> \n",
        "    </tr> \n",
        "    \n",
        "    <tr>\n",
        "    <td > **v[\"db1\"]** </td> \n",
        "           <td > [[-0.01228902]\n",
        " [-0.09357694]] </td> \n",
        "    </tr> \n",
        "    \n",
        "    <tr>\n",
        "    <td > **v[\"dW2\"]** </td> \n",
        "           <td > [[-0.02678881  0.05303555 -0.06916608]\n",
        " [-0.03967535 -0.06871727 -0.08452056]\n",
        " [-0.06712461 -0.00126646 -0.11173103]] </td> \n",
        "    </tr> \n",
        "    \n",
        "    <tr>\n",
        "    <td > **v[\"db2\"]** </td> \n",
        "           <td > [[ 0.02344157]\n",
        " [ 0.16598022]\n",
        " [ 0.07420442]] </td> \n",
        "    </tr> \n",
        "    <tr>\n",
        "    <td > **s[\"dW1\"]** </td> \n",
        "           <td > [[ 0.00121136  0.00131039  0.00081287]\n",
        " [ 0.0002525   0.00081154  0.00046748]] </td> \n",
        "    </tr> \n",
        "    \n",
        "    <tr>\n",
        "    <td > **s[\"db1\"]** </td> \n",
        "           <td > [[  1.51020075e-05]\n",
        " [  8.75664434e-04]] </td> \n",
        "    </tr> \n",
        "    \n",
        "    <tr>\n",
        "    <td > **s[\"dW2\"]** </td> \n",
        "           <td > [[  7.17640232e-05   2.81276921e-04   4.78394595e-04]\n",
        " [  1.57413361e-04   4.72206320e-04   7.14372576e-04]\n",
        " [  4.50571368e-04   1.60392066e-07   1.24838242e-03]] </td> \n",
        "    </tr> \n",
        "    \n",
        "    <tr>\n",
        "    <td > **s[\"db2\"]** </td> \n",
        "           <td > [[  5.49507194e-05]\n",
        " [  2.75494327e-03]\n",
        " [  5.50629536e-04]] </td> \n",
        "    </tr>\n",
        "</table>\n"
      ]
    },
    {
      "cell_type": "markdown",
      "metadata": {
        "id": "LLw14P2spOLV"
      },
      "source": [
        "You now have three working optimization algorithms (mini-batch gradient descent, Momentum, Adam). Let's implement a model with each of these optimizers and observe the difference."
      ]
    },
    {
      "cell_type": "markdown",
      "metadata": {
        "id": "b5ZdEBFNpOLV"
      },
      "source": [
        "## 5 - Model with different optimization algorithms\n",
        "\n",
        "Lets use the following \"moons\" dataset to test the different optimization methods. (The dataset is named \"moons\" because the data from each of the two classes looks a bit like a crescent-shaped moon.) "
      ]
    },
    {
      "cell_type": "code",
      "metadata": {
        "collapsed": true,
        "colab": {
          "base_uri": "https://localhost:8080/",
          "height": 269
        },
        "id": "6KYJWaBWpOLW",
        "outputId": "90fc969c-e511-4123-afb8-c26ddb3bb839"
      },
      "source": [
        "train_X, train_Y = load_dataset()"
      ],
      "execution_count": null,
      "outputs": [
        {
          "output_type": "display_data",
          "data": {
            "image/png": "[encoded data removed]",
            "text/plain": [
              "<Figure size 504x288 with 1 Axes>"
            ]
          },
          "metadata": {
            "tags": [],
            "needs_background": "light"
          }
        }
      ]
    },
    {
      "cell_type": "markdown",
      "metadata": {
        "id": "lNNN93X3pOLW"
      },
      "source": [
        "We have already implemented a 3-layer neural network. You will train it with: \n",
        "- Mini-batch **Gradient Descent**: it will call your function:\n",
        "    - `update_parameters_with_gd()`\n",
        "- Mini-batch **Momentum**: it will call your functions:\n",
        "    - `initialize_velocity()` and `update_parameters_with_momentum()`\n",
        "- Mini-batch **Adam**: it will call your functions:\n",
        "    - `initialize_adam()` and `update_parameters_with_adam()`"
      ]
    },
    {
      "cell_type": "code",
      "metadata": {
        "collapsed": true,
        "id": "zJ5070qPpOLX"
      },
      "source": [
        "def model(X, Y, layers_dims, optimizer, learning_rate = 0.0007, mini_batch_size = 64, beta = 0.9,\n",
        "          beta1 = 0.9, beta2 = 0.999,  epsilon = 1e-8, num_epochs = 10000, print_cost = True):\n",
        "    \"\"\"\n",
        "    3-layer neural network model which can be run in different optimizer modes.\n",
        "    \n",
        "    Arguments:\n",
        "    X -- input data, of shape (2, number of examples)\n",
        "    Y -- true \"label\" vector (1 for blue dot / 0 for red dot), of shape (1, number of examples)\n",
        "    layers_dims -- python list, containing the size of each layer\n",
        "    learning_rate -- the learning rate, scalar.\n",
        "    mini_batch_size -- the size of a mini batch\n",
        "    beta -- Momentum hyperparameter\n",
        "    beta1 -- Exponential decay hyperparameter for the past gradients estimates \n",
        "    beta2 -- Exponential decay hyperparameter for the past squared gradients estimates \n",
        "    epsilon -- hyperparameter preventing division by zero in Adam updates\n",
        "    num_epochs -- number of epochs\n",
        "    print_cost -- True to print the cost every 1000 epochs\n",
        "\n",
        "    Returns:\n",
        "    parameters -- python dictionary containing your updated parameters \n",
        "    \"\"\"\n",
        "\n",
        "    L = len(layers_dims)             # number of layers in the neural networks\n",
        "    costs = []                       # to keep track of the cost\n",
        "    t = 0                            # initializing the counter required for Adam update\n",
        "    seed = 10                        # For grading purposes, so that your \"random\" minibatches are the same as ours\n",
        "    \n",
        "    # Initialize parameters\n",
        "    parameters = initialize_parameters(layers_dims)\n",
        "\n",
        "    # Initialize the optimizer\n",
        "    if optimizer == \"gd\":\n",
        "        pass # no initialization required for gradient descent\n",
        "    elif optimizer == \"momentum\":\n",
        "        v = initialize_velocity(parameters)\n",
        "    elif optimizer == \"adam\":\n",
        "        v, s = initialize_adam(parameters)\n",
        "    \n",
        "    # Optimization loop\n",
        "    for i in range(num_epochs):\n",
        "        \n",
        "        # Define the random minibatches. We increment the seed to reshuffle differently the dataset after each epoch\n",
        "        seed = seed + 1\n",
        "        minibatches = random_mini_batches(X, Y, mini_batch_size, seed)\n",
        "        cost = 0\n",
        "        \n",
        "        for minibatch in minibatches:\n",
        "\n",
        "            # Select a minibatch\n",
        "            (minibatch_X, minibatch_Y) = minibatch\n",
        "\n",
        "            # Forward propagation\n",
        "            a3, caches = forward_propagation(minibatch_X, parameters)\n",
        "\n",
        "            # Compute cost\n",
        "            cost += compute_cost(a3, minibatch_Y)\n",
        "\n",
        "            # Backward propagation\n",
        "            grads = backward_propagation(minibatch_X, minibatch_Y, caches)\n",
        "\n",
        "            # Update parameters\n",
        "            if optimizer == \"gd\":\n",
        "                parameters = update_parameters_with_gd(parameters, grads, learning_rate)\n",
        "            elif optimizer == \"momentum\":\n",
        "                parameters, v = update_parameters_with_momentum(parameters, grads, v, beta, learning_rate)\n",
        "            elif optimizer == \"adam\":\n",
        "                t = t + 1 # Adam counter\n",
        "                parameters, v, s = update_parameters_with_adam(parameters, grads, v, s,\n",
        "                                                               t, learning_rate, beta1, beta2,  epsilon)\n",
        "        \n",
        "        # Print the cost every 1000 epoch\n",
        "        if print_cost and i % 1000 == 0:\n",
        "            print (\"Cost after epoch %i: %f\" %(i, cost))\n",
        "        if print_cost and i % 100 == 0:\n",
        "            costs.append(cost)\n",
        "                \n",
        "    # plot the cost\n",
        "    plt.plot(costs)\n",
        "    plt.ylabel('cost')\n",
        "    plt.xlabel('epochs (per 100)')\n",
        "    plt.title(\"Learning rate = \" + str(learning_rate))\n",
        "    plt.show()\n",
        "\n",
        "    return parameters"
      ],
      "execution_count": null,
      "outputs": []
    },
    {
      "cell_type": "markdown",
      "metadata": {
        "id": "z4CtuAV-pOLY"
      },
      "source": [
        "You will now run this 3 layer neural network with each of the 3 optimization methods.\n",
        "\n",
        "### 5.1 - Mini-batch Gradient descent\n",
        "\n",
        "Run the following code to see how the model does with mini-batch gradient descent."
      ]
    },
    {
      "cell_type": "code",
      "metadata": {
        "collapsed": true,
        "scrolled": false,
        "colab": {
          "base_uri": "https://localhost:8080/",
          "height": 760
        },
        "id": "6PJXqXTipOLZ",
        "outputId": "12a89833-a555-43c3-b2ea-3b2348ef7c4a"
      },
      "source": [
        "# train 3-layer model\n",
        "layers_dims = [train_X.shape[0], 5, 2, 1]\n",
        "parameters = model(train_X, train_Y, layers_dims, optimizer = \"gd\")\n",
        "\n",
        "# Predict\n",
        "predictions = predict(train_X, train_Y, parameters)\n",
        "\n",
        "# Plot decision boundary\n",
        "plt.title(\"Model with Gradient Descent optimization\")\n",
        "axes = plt.gca()\n",
        "axes.set_xlim([-1.5,2.5])\n",
        "axes.set_ylim([-1,1.5])\n",
        "plot_decision_boundary(lambda x: predict_dec(parameters, x.T), train_X, train_Y)"
      ],
      "execution_count": null,
      "outputs": [
        {
          "output_type": "stream",
          "text": [
            "Cost after epoch 0: 210.721405\n",
            "Cost after epoch 1000: 200.430193\n",
            "Cost after epoch 2000: 190.586271\n",
            "Cost after epoch 3000: 180.147360\n",
            "Cost after epoch 4000: 172.010168\n",
            "Cost after epoch 5000: 165.593163\n",
            "Cost after epoch 6000: 159.710854\n",
            "Cost after epoch 7000: 154.202032\n",
            "Cost after epoch 8000: 148.941615\n",
            "Cost after epoch 9000: 140.404105\n"
          ],
          "name": "stdout"
        },
        {
          "output_type": "display_data",
          "data": {
            "image/png": "[encoded data removed]",
            "text/plain": [
              "<Figure size 504x288 with 1 Axes>"
            ]
          },
          "metadata": {
            "tags": [],
            "needs_background": "light"
          }
        },
        {
          "output_type": "stream",
          "text": [
            "Accuracy: 0.7966666666666666\n"
          ],
          "name": "stdout"
        },
        {
          "output_type": "display_data",
          "data": {
            "image/png": "[encoded data removed]",
            "text/plain": [
              "<Figure size 504x288 with 1 Axes>"
            ]
          },
          "metadata": {
            "tags": [],
            "needs_background": "light"
          }
        }
      ]
    },
    {
      "cell_type": "markdown",
      "metadata": {
        "collapsed": true,
        "id": "MvpI5y8PpOLZ"
      },
      "source": [
        "### 5.2 - Mini-batch gradient descent with momentum\n",
        "\n",
        "Run the following code to see how the model does with momentum. Because this example is relatively simple, the gains from using momemtum are small; but for more complex problems you might see bigger gains."
      ]
    },
    {
      "cell_type": "code",
      "metadata": {
        "collapsed": true,
        "colab": {
          "base_uri": "https://localhost:8080/",
          "height": 760
        },
        "id": "nMHTiJGupOLa",
        "outputId": "deab6fd5-febd-421f-9fae-54236be7f19c"
      },
      "source": [
        "# train 3-layer model\n",
        "layers_dims = [train_X.shape[0], 5, 2, 1]\n",
        "parameters = model(train_X, train_Y, layers_dims, beta = 0.9, optimizer = \"momentum\")\n",
        "\n",
        "# Predict\n",
        "predictions = predict(train_X, train_Y, parameters)\n",
        "\n",
        "# Plot decision boundary\n",
        "plt.title(\"Model with Momentum optimization\")\n",
        "axes = plt.gca()\n",
        "axes.set_xlim([-1.5,2.5])\n",
        "axes.set_ylim([-1,1.5])\n",
        "plot_decision_boundary(lambda x: predict_dec(parameters, x.T), train_X, train_Y)"
      ],
      "execution_count": null,
      "outputs": [
        {
          "output_type": "stream",
          "text": [
            "Cost after epoch 0: 210.723819\n",
            "Cost after epoch 1000: 200.450033\n",
            "Cost after epoch 2000: 190.616465\n",
            "Cost after epoch 3000: 180.177233\n",
            "Cost after epoch 4000: 172.033253\n",
            "Cost after epoch 5000: 165.617399\n",
            "Cost after epoch 6000: 159.737521\n",
            "Cost after epoch 7000: 154.230197\n",
            "Cost after epoch 8000: 148.995627\n",
            "Cost after epoch 9000: 140.447900\n"
          ],
          "name": "stdout"
        },
        {
          "output_type": "display_data",
          "data": {
            "image/png": "[encoded data removed]",
            "text/plain": [
              "<Figure size 504x288 with 1 Axes>"
            ]
          },
          "metadata": {
            "tags": [],
            "needs_background": "light"
          }
        },
        {
          "output_type": "stream",
          "text": [
            "Accuracy: 0.7966666666666666\n"
          ],
          "name": "stdout"
        },
        {
          "output_type": "display_data",
          "data": {
            "image/png": "[encoded data removed]",
            "text/plain": [
              "<Figure size 504x288 with 1 Axes>"
            ]
          },
          "metadata": {
            "tags": [],
            "needs_background": "light"
          }
        }
      ]
    },
    {
      "cell_type": "markdown",
      "metadata": {
        "collapsed": true,
        "id": "sd4mMpudpOLb"
      },
      "source": [
        "### 5.3 - Mini-batch with Adam mode\n",
        "\n",
        "Run the following code to see how the model does with Adam."
      ]
    },
    {
      "cell_type": "code",
      "metadata": {
        "collapsed": true,
        "colab": {
          "base_uri": "https://localhost:8080/",
          "height": 760
        },
        "id": "vTvQ9HCRpOLb",
        "outputId": "fad1fb40-e7ba-42a5-990a-3dc40c3bf8ff"
      },
      "source": [
        "# train 3-layer model\n",
        "layers_dims = [train_X.shape[0], 5, 2, 1]\n",
        "parameters = model(train_X, train_Y, layers_dims, optimizer = \"adam\")\n",
        "\n",
        "# Predict\n",
        "predictions = predict(train_X, train_Y, parameters)\n",
        "\n",
        "# Plot decision boundary\n",
        "plt.title(\"Model with Adam optimization\")\n",
        "axes = plt.gca()\n",
        "axes.set_xlim([-1.5,2.5])\n",
        "axes.set_ylim([-1,1.5])\n",
        "plot_decision_boundary(lambda x: predict_dec(parameters, x.T), train_X, train_Y)"
      ],
      "execution_count": null,
      "outputs": [
        {
          "output_type": "stream",
          "text": [
            "Cost after epoch 0: 210.649657\n",
            "Cost after epoch 1000: 50.353516\n",
            "Cost after epoch 2000: 42.394859\n",
            "Cost after epoch 3000: 41.636351\n",
            "Cost after epoch 4000: 40.819848\n",
            "Cost after epoch 5000: 40.272033\n",
            "Cost after epoch 6000: 39.338095\n",
            "Cost after epoch 7000: 39.064692\n",
            "Cost after epoch 8000: 38.887014\n",
            "Cost after epoch 9000: 38.735512\n"
          ],
          "name": "stdout"
        },
        {
          "output_type": "display_data",
          "data": {
            "image/png": "[encoded data removed]",
            "text/plain": [
              "<Figure size 504x288 with 1 Axes>"
            ]
          },
          "metadata": {
            "tags": [],
            "needs_background": "light"
          }
        },
        {
          "output_type": "stream",
          "text": [
            "Accuracy: 0.94\n"
          ],
          "name": "stdout"
        },
        {
          "output_type": "display_data",
          "data": {
            "image/png": "[encoded data removed]",
            "text/plain": [
              "<Figure size 504x288 with 1 Axes>"
            ]
          },
          "metadata": {
            "tags": [],
            "needs_background": "light"
          }
        }
      ]
    },
    {
      "cell_type": "markdown",
      "metadata": {
        "collapsed": true,
        "id": "VPEAEBqKpOLc"
      },
      "source": [
        "### 5.4 - Summary\n",
        "\n",
        "<table> \n",
        "    <tr>\n",
        "        <td>\n",
        "        **optimization method**\n",
        "        </td>\n",
        "        <td>\n",
        "        **accuracy**\n",
        "        </td>\n",
        "        <td>\n",
        "        **cost shape**\n",
        "        </td>\n",
        "\n",
        "    </tr>\n",
        "        <td>\n",
        "        Gradient descent\n",
        "        </td>\n",
        "        <td>\n",
        "        79.7%\n",
        "        </td>\n",
        "        <td>\n",
        "        oscillations\n",
        "        </td>\n",
        "    <tr>\n",
        "        <td>\n",
        "        Momentum\n",
        "        </td>\n",
        "        <td>\n",
        "        79.7%\n",
        "        </td>\n",
        "        <td>\n",
        "        oscillations\n",
        "        </td>\n",
        "    </tr>\n",
        "    <tr>\n",
        "        <td>\n",
        "        Adam\n",
        "        </td>\n",
        "        <td>\n",
        "        94%\n",
        "        </td>\n",
        "        <td>\n",
        "        smoother\n",
        "        </td>\n",
        "    </tr>\n",
        "</table> \n",
        "\n",
        "Momentum usually helps, but given the small learning rate and the simplistic dataset, its impact is almost negligeable. Also, the huge oscillations you see in the cost come from the fact that some minibatches are more difficult thans others for the optimization algorithm.\n",
        "\n",
        "Adam on the other hand, clearly outperforms mini-batch gradient descent and Momentum. If you run the model for more epochs on this simple dataset, all three methods will lead to very good results. However, you've seen that Adam converges a lot faster.\n",
        "\n",
        "Some advantages of Adam include:\n",
        "- Relatively low memory requirements (though higher than gradient descent and gradient descent with momentum) \n",
        "- Usually works well even with little tuning of hyperparameters (except $\\alpha$)"
      ]
    },
    {
      "cell_type": "markdown",
      "metadata": {
        "collapsed": true,
        "id": "pXeUdqwMpOLd"
      },
      "source": [
        "**References**:\n",
        "\n",
        "- Adam paper: https://arxiv.org/pdf/1412.6980.pdf"
      ]
    }
  ]
}